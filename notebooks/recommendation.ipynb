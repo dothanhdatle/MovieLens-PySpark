{
 "cells": [
  {
   "cell_type": "code",
   "execution_count": 10,
   "id": "91ba71c0",
   "metadata": {},
   "outputs": [],
   "source": [
    "import os\n",
    "from pyspark.sql import SparkSession\n",
    "import pyspark.sql.functions as func\n",
    "from pyspark.ml.recommendation import ALS\n",
    "from pyspark.ml.evaluation import RegressionEvaluator\n",
    "import pandas as pd\n",
    "import matplotlib.pyplot as plt"
   ]
  },
  {
   "cell_type": "code",
   "execution_count": 2,
   "id": "e47e29da",
   "metadata": {},
   "outputs": [
    {
     "name": "stderr",
     "output_type": "stream",
     "text": [
      "WARNING: Using incubator modules: jdk.incubator.vector\n",
      "Using Spark's default log4j profile: org/apache/spark/log4j2-defaults.properties\n",
      "25/08/10 19:56:03 WARN Utils: Your hostname, dothanhdatle, resolves to a loopback address: 127.0.1.1; using 10.188.43.224 instead (on interface wlo1)\n",
      "25/08/10 19:56:03 WARN Utils: Set SPARK_LOCAL_IP if you need to bind to another address\n",
      "Using Spark's default log4j profile: org/apache/spark/log4j2-defaults.properties\n",
      "Setting default log level to \"WARN\".\n",
      "To adjust logging level use sc.setLogLevel(newLevel). For SparkR, use setLogLevel(newLevel).\n",
      "25/08/10 19:56:04 WARN NativeCodeLoader: Unable to load native-hadoop library for your platform... using builtin-java classes where applicable\n"
     ]
    }
   ],
   "source": [
    "# Initialize Saprk Session\n",
    "spark = SparkSession.builder.appName(\"MovieLensRec\").getOrCreate()\n",
    "spark.sparkContext.setLogLevel(\"ERROR\")"
   ]
  },
  {
   "cell_type": "code",
   "execution_count": 3,
   "id": "02b944af",
   "metadata": {},
   "outputs": [
    {
     "name": "stderr",
     "output_type": "stream",
     "text": [
      "                                                                                \r"
     ]
    }
   ],
   "source": [
    "# Load data\n",
    "base_dir = os.path.dirname(os.getcwd())\n",
    "data_path = os.path.join(base_dir, \"data\", \"transformed\")\n",
    "\n",
    "movie_df = spark.read.parquet(os.path.join(data_path,\"movies_clean\"))\n",
    "movieByGenre_df = spark.read.parquet(os.path.join(data_path,\"movies_by_genre\"))\n",
    "rating_df = spark.read.parquet(os.path.join(data_path,\"ratingWithDatetime\"))\n",
    "user_df = spark.read.parquet(os.path.join(data_path,\"usersData\"))"
   ]
  },
  {
   "cell_type": "code",
   "execution_count": 4,
   "id": "7902c859",
   "metadata": {},
   "outputs": [
    {
     "name": "stdout",
     "output_type": "stream",
     "text": [
      "root\n",
      " |-- movieID: integer (nullable = true)\n",
      " |-- title: string (nullable = true)\n",
      " |-- genres: string (nullable = true)\n",
      " |-- year: integer (nullable = true)\n",
      "\n",
      "root\n",
      " |-- movieID: integer (nullable = true)\n",
      " |-- title: string (nullable = true)\n",
      " |-- year: integer (nullable = true)\n",
      " |-- genre: string (nullable = true)\n",
      "\n",
      "root\n",
      " |-- userID: integer (nullable = true)\n",
      " |-- movieID: integer (nullable = true)\n",
      " |-- rating: float (nullable = true)\n",
      " |-- timestamp: long (nullable = true)\n",
      " |-- datetime: string (nullable = true)\n",
      " |-- year: integer (nullable = true)\n",
      " |-- month: integer (nullable = true)\n",
      "\n",
      "root\n",
      " |-- userID: integer (nullable = true)\n",
      " |-- gender: string (nullable = true)\n",
      " |-- age: integer (nullable = true)\n",
      " |-- occupation: integer (nullable = true)\n",
      " |-- zipcode: string (nullable = true)\n",
      " |-- age_group: string (nullable = true)\n",
      "\n"
     ]
    }
   ],
   "source": [
    "movie_df.printSchema()\n",
    "movieByGenre_df.printSchema()\n",
    "rating_df.printSchema()\n",
    "user_df.printSchema()"
   ]
  },
  {
   "cell_type": "code",
   "execution_count": 5,
   "id": "fc3a1b68",
   "metadata": {},
   "outputs": [
    {
     "name": "stderr",
     "output_type": "stream",
     "text": [
      "                                                                                \r"
     ]
    },
    {
     "name": "stdout",
     "output_type": "stream",
     "text": [
      "+-------+--------------------------------------+--------------------------+----+\n",
      "|movieID|title                                 |genres                    |year|\n",
      "+-------+--------------------------------------+--------------------------+----+\n",
      "|169    |Free Willy 2: The Adventure Home      |Adventure|Children's|Drama|1995|\n",
      "|191    |Scarlet Letter, The                   |Drama                     |1995|\n",
      "|891    |Halloween: The Curse of Michael Myers |Horror|Thriller           |1995|\n",
      "+-------+--------------------------------------+--------------------------+----+\n",
      "only showing top 3 rows\n",
      "+-------+---------------------------------+----+----------+\n",
      "|movieID|title                            |year|genre     |\n",
      "+-------+---------------------------------+----+----------+\n",
      "|169    |Free Willy 2: The Adventure Home |1995|Adventure |\n",
      "|169    |Free Willy 2: The Adventure Home |1995|Children's|\n",
      "|169    |Free Willy 2: The Adventure Home |1995|Drama     |\n",
      "+-------+---------------------------------+----+----------+\n",
      "only showing top 3 rows\n",
      "+------+-------+------+---------+-------------------+----+-----+\n",
      "|userID|movieID|rating|timestamp|datetime           |year|month|\n",
      "+------+-------+------+---------+-------------------+----+-----+\n",
      "|1     |1029   |5.0   |978302205|2000-12-31 23:36:45|2000|12   |\n",
      "|8     |1274   |5.0   |978233462|2000-12-31 04:31:02|2000|12   |\n",
      "|10    |913    |3.0   |978225900|2000-12-31 02:25:00|2000|12   |\n",
      "+------+-------+------+---------+-------------------+----+-----+\n",
      "only showing top 3 rows\n",
      "+------+------+---+----------+-------+---------+\n",
      "|userID|gender|age|occupation|zipcode|age_group|\n",
      "+------+------+---+----------+-------+---------+\n",
      "|83    |F     |25 |2         |94609  |25-34    |\n",
      "|213   |F     |18 |4         |01609  |18-24    |\n",
      "|359   |M     |25 |17        |55128  |25-34    |\n",
      "+------+------+---+----------+-------+---------+\n",
      "only showing top 3 rows\n"
     ]
    }
   ],
   "source": [
    "movie_df.show(3,truncate=False)\n",
    "movieByGenre_df.show(3, truncate=False)\n",
    "rating_df.show(3, truncate=False)\n",
    "user_df.show(3, truncate=False)"
   ]
  },
  {
   "cell_type": "markdown",
   "id": "09744aa0",
   "metadata": {},
   "source": [
    "**Build recommendation model**"
   ]
  },
  {
   "cell_type": "code",
   "execution_count": null,
   "id": "4fff4f02",
   "metadata": {},
   "outputs": [],
   "source": [
    "# split train test set \n",
    "(train, test) = rating_df.randomSplit([0.8, 0.2])"
   ]
  },
  {
   "cell_type": "code",
   "execution_count": null,
   "id": "deb6f556",
   "metadata": {},
   "outputs": [
    {
     "name": "stderr",
     "output_type": "stream",
     "text": [
      "                                                                                \r"
     ]
    }
   ],
   "source": [
    "# train model\n",
    "als = ALS(userCol=\"userID\", itemCol=\"movieID\", ratingCol=\"rating\",\n",
    "          coldStartStrategy=\"drop\", nonnegative=True, implicitPrefs=False)\n",
    "\n",
    "model = als.fit(train)"
   ]
  },
  {
   "cell_type": "code",
   "execution_count": 11,
   "id": "9db5d432",
   "metadata": {},
   "outputs": [
    {
     "name": "stderr",
     "output_type": "stream",
     "text": [
      "[Stage 116:>                                                        (0 + 2) / 2]\r"
     ]
    },
    {
     "name": "stdout",
     "output_type": "stream",
     "text": [
      "Root-mean-square error = 0.8736244296303589\n"
     ]
    },
    {
     "name": "stderr",
     "output_type": "stream",
     "text": [
      "                                                                                \r"
     ]
    }
   ],
   "source": [
    "predictions = model.transform(test)\n",
    "evaluator = RegressionEvaluator(metricName=\"rmse\", labelCol=\"rating\",\n",
    "                                predictionCol=\"prediction\")\n",
    "\n",
    "rmse = evaluator.evaluate(predictions)\n",
    "print(f\"Root-mean-square error = {rmse}\")"
   ]
  },
  {
   "cell_type": "code",
   "execution_count": 12,
   "id": "5868912c",
   "metadata": {},
   "outputs": [
    {
     "name": "stderr",
     "output_type": "stream",
     "text": [
      "[Stage 140:===========================================>         (82 + 17) / 100]\r"
     ]
    },
    {
     "name": "stdout",
     "output_type": "stream",
     "text": [
      "+------+-------------------------------------------------------------------------------------------------------------------------------------------------------------------------------------------+\n",
      "|userID|recommendations                                                                                                                                                                            |\n",
      "+------+-------------------------------------------------------------------------------------------------------------------------------------------------------------------------------------------+\n",
      "|26    |[{572, 4.8338547}, {2309, 4.0876555}, {3314, 4.0826306}, {3233, 3.8834777}, {1851, 3.8290057}, {985, 3.8030872}, {3853, 3.7817454}, {2332, 3.7800689}, {811, 3.7602987}, {3603, 3.7539806}]|\n",
      "|27    |[{557, 5.2348585}, {2309, 4.801462}, {670, 4.750251}, {923, 4.7052727}, {2019, 4.6911325}, {3030, 4.685462}, {668, 4.6763964}, {3134, 4.6495295}, {912, 4.647382}, {3022, 4.643687}]       |\n",
      "|28    |[{557, 4.7255917}, {2309, 4.6757603}, {572, 4.585448}, {3245, 4.4658704}, {3338, 4.414402}, {787, 4.393746}, {1148, 4.3253155}, {745, 4.3073764}, {1851, 4.277423}, {3517, 4.276029}]      |\n",
      "|31    |[{572, 5.226193}, {2309, 4.674982}, {3092, 4.6435013}, {1198, 4.5130243}, {1851, 4.4857044}, {260, 4.478647}, {787, 4.3603683}, {1196, 4.3218865}, {3114, 4.317624}, {2762, 4.3131933}]    |\n",
      "|34    |[{572, 5.6822486}, {2309, 5.2396555}, {1851, 5.0229964}, {318, 4.9181337}, {108, 4.8109474}, {527, 4.756959}, {2905, 4.7337008}, {2324, 4.704141}, {3172, 4.694199}, {787, 4.6851616}]     |\n",
      "+------+-------------------------------------------------------------------------------------------------------------------------------------------------------------------------------------------+\n",
      "only showing top 5 rows\n"
     ]
    },
    {
     "name": "stderr",
     "output_type": "stream",
     "text": [
      "                                                                                \r"
     ]
    }
   ],
   "source": [
    "# Make recommendations for all users\n",
    "userRecs = model.recommendForAllUsers(10)\n",
    "userRecs.show(5, truncate=False)"
   ]
  }
 ],
 "metadata": {
  "kernelspec": {
   "display_name": "py310",
   "language": "python",
   "name": "python3"
  },
  "language_info": {
   "codemirror_mode": {
    "name": "ipython",
    "version": 3
   },
   "file_extension": ".py",
   "mimetype": "text/x-python",
   "name": "python",
   "nbconvert_exporter": "python",
   "pygments_lexer": "ipython3",
   "version": "3.10.18"
  }
 },
 "nbformat": 4,
 "nbformat_minor": 5
}
