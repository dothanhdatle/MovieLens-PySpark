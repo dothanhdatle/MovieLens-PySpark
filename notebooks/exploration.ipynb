{
 "cells": [
  {
   "cell_type": "code",
   "execution_count": 1,
   "id": "91ba71c0",
   "metadata": {},
   "outputs": [
    {
     "name": "stderr",
     "output_type": "stream",
     "text": [
      "Matplotlib is building the font cache; this may take a moment.\n"
     ]
    }
   ],
   "source": [
    "import os\n",
    "from pyspark.sql import SparkSession\n",
    "import pyspark.sql.functions as func\n",
    "import pandas as pd\n",
    "import matplotlib.pyplot as plt"
   ]
  },
  {
   "cell_type": "code",
   "execution_count": 2,
   "id": "e47e29da",
   "metadata": {},
   "outputs": [
    {
     "name": "stderr",
     "output_type": "stream",
     "text": [
      "WARNING: Using incubator modules: jdk.incubator.vector\n",
      "Using Spark's default log4j profile: org/apache/spark/log4j2-defaults.properties\n",
      "25/08/10 14:12:40 WARN Utils: Your hostname, dothanhdatle, resolves to a loopback address: 127.0.1.1; using 10.188.43.224 instead (on interface wlo1)\n",
      "25/08/10 14:12:40 WARN Utils: Set SPARK_LOCAL_IP if you need to bind to another address\n",
      "Using Spark's default log4j profile: org/apache/spark/log4j2-defaults.properties\n",
      "Setting default log level to \"WARN\".\n",
      "To adjust logging level use sc.setLogLevel(newLevel). For SparkR, use setLogLevel(newLevel).\n",
      "25/08/10 14:12:41 WARN NativeCodeLoader: Unable to load native-hadoop library for your platform... using builtin-java classes where applicable\n"
     ]
    }
   ],
   "source": [
    "# Initialize Saprk Session\n",
    "spark = SparkSession.builder.appName(\"MovieLens\").getOrCreate()\n",
    "spark.sparkContext.setLogLevel(\"ERROR\")"
   ]
  },
  {
   "cell_type": "code",
   "execution_count": 3,
   "id": "02b944af",
   "metadata": {},
   "outputs": [
    {
     "name": "stderr",
     "output_type": "stream",
     "text": [
      "                                                                                \r"
     ]
    }
   ],
   "source": [
    "# Load data\n",
    "base_dir = os.path.dirname(os.getcwd())\n",
    "data_path = os.path.join(base_dir, \"data\", \"transformed\")\n",
    "\n",
    "movie_df = spark.read.parquet(os.path.join(data_path,\"movies_clean\"))\n",
    "movieByGenre_df = spark.read.parquet(os.path.join(data_path,\"movies_by_genre\"))\n",
    "rating_df = spark.read.parquet(os.path.join(data_path,\"ratingWithDatetime\"))\n",
    "user_df = spark.read.parquet(os.path.join(data_path,\"usersData\"))"
   ]
  },
  {
   "cell_type": "code",
   "execution_count": 4,
   "id": "7902c859",
   "metadata": {},
   "outputs": [
    {
     "name": "stdout",
     "output_type": "stream",
     "text": [
      "root\n",
      " |-- movieID: integer (nullable = true)\n",
      " |-- title: string (nullable = true)\n",
      " |-- genres: string (nullable = true)\n",
      " |-- year: integer (nullable = true)\n",
      "\n",
      "root\n",
      " |-- movieID: integer (nullable = true)\n",
      " |-- title: string (nullable = true)\n",
      " |-- year: integer (nullable = true)\n",
      " |-- genre: string (nullable = true)\n",
      "\n",
      "root\n",
      " |-- userID: integer (nullable = true)\n",
      " |-- movieID: integer (nullable = true)\n",
      " |-- rating: float (nullable = true)\n",
      " |-- timestamp: long (nullable = true)\n",
      " |-- datetime: string (nullable = true)\n",
      " |-- year: integer (nullable = true)\n",
      " |-- month: integer (nullable = true)\n",
      "\n",
      "root\n",
      " |-- userID: integer (nullable = true)\n",
      " |-- gender: string (nullable = true)\n",
      " |-- age: integer (nullable = true)\n",
      " |-- occupation: integer (nullable = true)\n",
      " |-- zipcode: string (nullable = true)\n",
      " |-- age_group: string (nullable = true)\n",
      "\n"
     ]
    }
   ],
   "source": [
    "movie_df.printSchema()\n",
    "movieByGenre_df.printSchema()\n",
    "rating_df.printSchema()\n",
    "user_df.printSchema()"
   ]
  },
  {
   "cell_type": "code",
   "execution_count": 5,
   "id": "fc3a1b68",
   "metadata": {},
   "outputs": [
    {
     "name": "stderr",
     "output_type": "stream",
     "text": [
      "                                                                                \r"
     ]
    },
    {
     "name": "stdout",
     "output_type": "stream",
     "text": [
      "+-------+--------------------------------------+--------------------------+----+\n",
      "|movieID|title                                 |genres                    |year|\n",
      "+-------+--------------------------------------+--------------------------+----+\n",
      "|169    |Free Willy 2: The Adventure Home      |Adventure|Children's|Drama|1995|\n",
      "|191    |Scarlet Letter, The                   |Drama                     |1995|\n",
      "|891    |Halloween: The Curse of Michael Myers |Horror|Thriller           |1995|\n",
      "+-------+--------------------------------------+--------------------------+----+\n",
      "only showing top 3 rows\n",
      "+-------+---------------------------------+----+----------+\n",
      "|movieID|title                            |year|genre     |\n",
      "+-------+---------------------------------+----+----------+\n",
      "|169    |Free Willy 2: The Adventure Home |1995|Adventure |\n",
      "|169    |Free Willy 2: The Adventure Home |1995|Children's|\n",
      "|169    |Free Willy 2: The Adventure Home |1995|Drama     |\n",
      "+-------+---------------------------------+----+----------+\n",
      "only showing top 3 rows\n",
      "+------+-------+------+---------+-------------------+----+-----+\n",
      "|userID|movieID|rating|timestamp|datetime           |year|month|\n",
      "+------+-------+------+---------+-------------------+----+-----+\n",
      "|1     |1029   |5.0   |978302205|2000-12-31 23:36:45|2000|12   |\n",
      "|8     |1274   |5.0   |978233462|2000-12-31 04:31:02|2000|12   |\n",
      "|10    |913    |3.0   |978225900|2000-12-31 02:25:00|2000|12   |\n",
      "+------+-------+------+---------+-------------------+----+-----+\n",
      "only showing top 3 rows\n",
      "+------+------+---+----------+-------+---------+\n",
      "|userID|gender|age|occupation|zipcode|age_group|\n",
      "+------+------+---+----------+-------+---------+\n",
      "|83    |F     |25 |2         |94609  |25-34    |\n",
      "|213   |F     |18 |4         |01609  |18-24    |\n",
      "|359   |M     |25 |17        |55128  |25-34    |\n",
      "+------+------+---+----------+-------+---------+\n",
      "only showing top 3 rows\n"
     ]
    }
   ],
   "source": [
    "movie_df.show(3,truncate=False)\n",
    "movieByGenre_df.show(3, truncate=False)\n",
    "rating_df.show(3, truncate=False)\n",
    "user_df.show(3, truncate=False)"
   ]
  },
  {
   "cell_type": "markdown",
   "id": "09744aa0",
   "metadata": {},
   "source": [
    "**Some analysis**"
   ]
  },
  {
   "cell_type": "code",
   "execution_count": 6,
   "id": "4fff4f02",
   "metadata": {},
   "outputs": [
    {
     "name": "stderr",
     "output_type": "stream",
     "text": [
      "[Stage 9:>                                                        (0 + 14) / 14]\r"
     ]
    },
    {
     "name": "stdout",
     "output_type": "stream",
     "text": [
      "+-------+-----------------------------------------------+-------------+\n",
      "|movieID|title                                          |rating_counts|\n",
      "+-------+-----------------------------------------------+-------------+\n",
      "|2858   |American Beauty                                |3428         |\n",
      "|260    |Star Wars: Episode IV - A New Hope             |2991         |\n",
      "|1196   |Star Wars: Episode V - The Empire Strikes Back |2990         |\n",
      "|1210   |Star Wars: Episode VI - Return of the Jedi     |2883         |\n",
      "|480    |Jurassic Park                                  |2672         |\n",
      "+-------+-----------------------------------------------+-------------+\n",
      "only showing top 5 rows\n"
     ]
    },
    {
     "name": "stderr",
     "output_type": "stream",
     "text": [
      "                                                                                \r"
     ]
    }
   ],
   "source": [
    "# Top most rated movies\n",
    "movie_rated_counts = rating_df.groupBy(\"movieID\")\\\n",
    "    .agg(func.count(\"*\").alias(\"rating_counts\"))\\\n",
    "        .join(movie_df.select(\"movieID\",\"title\"),on=\"movieID\",how=\"inner\")\\\n",
    "            .select(\"movieID\",\"title\",\"rating_counts\")\\\n",
    "                .orderBy(func.desc(\"rating_counts\"))\n",
    "movie_rated_counts.show(5, truncate=False)"
   ]
  },
  {
   "cell_type": "code",
   "execution_count": 7,
   "id": "deb6f556",
   "metadata": {},
   "outputs": [
    {
     "name": "stderr",
     "output_type": "stream",
     "text": [
      "[Stage 13:>                                                         (0 + 1) / 1]\r"
     ]
    },
    {
     "name": "stdout",
     "output_type": "stream",
     "text": [
      "+-----------+----------+\n",
      "|      genre|avg_rating|\n",
      "+-----------+----------+\n",
      "|  Film-Noir|      4.08|\n",
      "|Documentary|      3.93|\n",
      "|        War|      3.89|\n",
      "|      Drama|      3.77|\n",
      "|      Crime|      3.71|\n",
      "|  Animation|      3.68|\n",
      "|    Mystery|      3.67|\n",
      "|    Musical|      3.67|\n",
      "|    Western|      3.64|\n",
      "|    Romance|      3.61|\n",
      "+-----------+----------+\n",
      "only showing top 10 rows\n"
     ]
    },
    {
     "name": "stderr",
     "output_type": "stream",
     "text": [
      "                                                                                \r"
     ]
    }
   ],
   "source": [
    "# Average rating per genre\n",
    "avg_rate_genre = movieByGenre_df.join(rating_df.select(\"movieID\",\"rating\"), on=\"movieID\", how=\"left\")\\\n",
    "    .groupBy(\"genre\").agg(func.round(func.avg(\"rating\"),2).alias(\"avg_rating\"))\\\n",
    "        .select(\"genre\",\"avg_rating\")\\\n",
    "            .orderBy(func.desc(\"avg_rating\"))\n",
    "avg_rate_genre.show(10)"
   ]
  },
  {
   "cell_type": "code",
   "execution_count": 8,
   "id": "9db5d432",
   "metadata": {},
   "outputs": [
    {
     "name": "stderr",
     "output_type": "stream",
     "text": [
      "[Stage 16:>                                                       (0 + 14) / 14]\r"
     ]
    },
    {
     "name": "stdout",
     "output_type": "stream",
     "text": [
      "+----+------------------+\n",
      "|year|        avg_rating|\n",
      "+----+------------------+\n",
      "|2000|3.5904041135333435|\n",
      "|2001| 3.512130290480806|\n",
      "|2002| 3.458828911253431|\n",
      "|2003| 3.486559139784946|\n",
      "+----+------------------+\n",
      "\n"
     ]
    },
    {
     "name": "stderr",
     "output_type": "stream",
     "text": [
      "                                                                                \r"
     ]
    }
   ],
   "source": [
    "# Rating Trends Over Time\n",
    "rating_over_year = rating_df.groupBy(\"year\").agg(func.avg(\"rating\").alias(\"avg_rating\")).orderBy(\"year\")\n",
    "rating_over_year.show()"
   ]
  },
  {
   "cell_type": "code",
   "execution_count": 9,
   "id": "5868912c",
   "metadata": {},
   "outputs": [
    {
     "name": "stderr",
     "output_type": "stream",
     "text": [
      "[Stage 20:============>                                           (3 + 11) / 14]\r"
     ]
    },
    {
     "name": "stdout",
     "output_type": "stream",
     "text": [
      "+------+-------------+------+---+----------+----------+---------+\n",
      "|userID|rating_counts|gender|age|occupation|   zipcode|age_group|\n",
      "+------+-------------+------+---+----------+----------+---------+\n",
      "|  4169|         2314|     M| 50|         0|     66048|    50-55|\n",
      "|  1680|         1850|     M| 25|        20|     95380|    25-34|\n",
      "|  4277|         1743|     M| 35|        16|     98133|    35-44|\n",
      "|  1941|         1595|     M| 35|        17|     94550|    35-44|\n",
      "|  1181|         1521|     M| 35|         7|     20716|    35-44|\n",
      "|   889|         1518|     M| 45|        20|     10024|    45-49|\n",
      "|  3618|         1344|     M| 56|        17|     22657|      56+|\n",
      "|  2063|         1323|     M| 25|         4|     43138|    25-34|\n",
      "|  1150|         1302|     F| 25|        20|     75226|    25-34|\n",
      "|  1015|         1286|     M| 35|         3|     11220|    35-44|\n",
      "|  5795|         1277|     M| 25|         1|     92688|    25-34|\n",
      "|  4344|         1271|     M| 25|         1|     44240|    25-34|\n",
      "|  1980|         1260|     M| 35|         7|     06460|    35-44|\n",
      "|  2909|         1258|     M| 25|         7|     43228|    25-34|\n",
      "|  1449|         1243|     M| 35|        20|     17112|    35-44|\n",
      "|  4510|         1240|     M| 45|         7|     92503|    45-49|\n",
      "|   424|         1226|     M| 25|        17|     55112|    25-34|\n",
      "|  4227|         1222|     M| 25|        19|11414-2520|    25-34|\n",
      "|  5831|         1220|     M| 25|         1|     92120|    25-34|\n",
      "|  3841|         1216|     M| 45|        18|     26101|    45-49|\n",
      "+------+-------------+------+---+----------+----------+---------+\n",
      "only showing top 20 rows\n"
     ]
    },
    {
     "name": "stderr",
     "output_type": "stream",
     "text": [
      "                                                                                \r"
     ]
    }
   ],
   "source": [
    "# Most Active Users\n",
    "user_ratings = rating_df.groupBy(\"userID\").agg(func.count(\"rating\").alias(\"rating_counts\"))\\\n",
    "    .join(user_df, on=\"userID\", how=\"inner\")\\\n",
    "    .orderBy(func.desc(\"rating_counts\"))\n",
    "user_ratings.show()"
   ]
  },
  {
   "cell_type": "code",
   "execution_count": null,
   "id": "ba01227e",
   "metadata": {},
   "outputs": [
    {
     "name": "stderr",
     "output_type": "stream",
     "text": [
      "                                                                                \r"
     ]
    },
    {
     "data": {
      "image/png": "[encoded data removed]",
      "text/plain": [
       "<Figure size 640x480 with 1 Axes>"
      ]
     },
     "metadata": {},
     "output_type": "display_data"
    }
   ],
   "source": [
    "# Distribution of ratings\n",
    "rating_distribution = rating_df.groupBy(\"rating\").count().orderBy(\"rating\")\n",
    "\n",
    "# Convert to pandas\n",
    "rating_pd = rating_distribution.toPandas()\n",
    "\n",
    "# Plot histogram\n",
    "plt.bar(rating_pd['rating'], rating_pd['count'], color='skyblue')\n",
    "plt.xlabel('Rating')\n",
    "plt.ylabel('Count')\n",
    "plt.title('Distribution of Ratings')\n",
    "plt.xticks([1, 2, 3, 4, 5])\n",
    "plt.show()\n"
   ]
  },
  {
   "cell_type": "code",
   "execution_count": null,
   "id": "6da4f233",
   "metadata": {},
   "outputs": [
    {
     "name": "stderr",
     "output_type": "stream",
     "text": [
      "[Stage 63:================>                                       (4 + 10) / 14]\r"
     ]
    },
    {
     "name": "stdout",
     "output_type": "stream",
     "text": [
      "+-----------+-----+-----+-----+-----+-----+----+--------+\n",
      "|genre      |18-24|25-34|35-44|45-49|50-55|56+ |Under 18|\n",
      "+-----------+-----+-----+-----+-----+-----+----+--------+\n",
      "|Action     |3.45 |3.45 |3.54 |3.53 |3.61 |3.61|3.51    |\n",
      "|Adventure  |3.41 |3.44 |3.52 |3.53 |3.63 |3.65|3.45    |\n",
      "|Animation  |3.62 |3.7  |3.74 |3.73 |3.78 |3.76|3.48    |\n",
      "|Children's |3.29 |3.43 |3.52 |3.53 |3.56 |3.62|3.24    |\n",
      "|Comedy     |3.46 |3.49 |3.56 |3.59 |3.65 |3.65|3.5     |\n",
      "|Crime      |3.67 |3.68 |3.73 |3.75 |3.81 |3.83|3.71    |\n",
      "|Documentary|3.87 |3.95 |3.95 |3.97 |3.91 |3.96|3.73    |\n",
      "|Drama      |3.72 |3.73 |3.78 |3.78 |3.88 |3.93|3.79    |\n",
      "|Fantasy    |3.35 |3.45 |3.48 |3.53 |3.58 |3.53|3.32    |\n",
      "|Film-Noir  |4.0  |4.06 |4.06 |4.11 |4.18 |4.13|4.15    |\n",
      "|Horror     |3.17 |3.2  |3.28 |3.26 |3.16 |3.25|3.25    |\n",
      "|Musical    |3.56 |3.62 |3.72 |3.74 |3.8  |3.89|3.57    |\n",
      "|Mystery    |3.53 |3.61 |3.7  |3.75 |3.89 |3.89|3.63    |\n",
      "|Romance    |3.53 |3.55 |3.65 |3.69 |3.76 |3.82|3.62    |\n",
      "|Sci-Fi     |3.43 |3.44 |3.5  |3.48 |3.56 |3.5 |3.48    |\n",
      "|Thriller   |3.49 |3.54 |3.62 |3.64 |3.71 |3.72|3.55    |\n",
      "|War        |3.85 |3.84 |3.9  |3.96 |3.97 |4.07|3.9     |\n",
      "|Western    |3.47 |3.61 |3.68 |3.67 |3.74 |3.79|3.58    |\n",
      "+-----------+-----+-----+-----+-----+-----+----+--------+\n",
      "\n"
     ]
    },
    {
     "name": "stderr",
     "output_type": "stream",
     "text": [
      "                                                                                \r"
     ]
    }
   ],
   "source": [
    "# Ratings over different genre of each age group\n",
    "rating_genre_df = rating_df.join(movieByGenre_df.select(\"movieID\", \"genre\"), on=\"movieID\", how=\"inner\")\n",
    "full_df = rating_genre_df.join(user_df.select(\"userID\", \"age_group\"), on=\"userID\", how=\"inner\")\n",
    "\n",
    "pivot_df = full_df.groupBy(\"genre\")\\\n",
    "    .pivot(\"age_group\")\\\n",
    "        .agg(func.round(func.avg(\"rating\"), 2))\\\n",
    "            .orderBy(\"genre\")\n",
    "\n",
    "pivot_df.show(truncate=False)"
   ]
  },
  {
   "cell_type": "code",
   "execution_count": null,
   "id": "fa103c45",
   "metadata": {},
   "outputs": [],
   "source": []
  }
 ],
 "metadata": {
  "kernelspec": {
   "display_name": "py310",
   "language": "python",
   "name": "python3"
  },
  "language_info": {
   "codemirror_mode": {
    "name": "ipython",
    "version": 3
   },
   "file_extension": ".py",
   "mimetype": "text/x-python",
   "name": "python",
   "nbconvert_exporter": "python",
   "pygments_lexer": "ipython3",
   "version": "3.10.18"
  }
 },
 "nbformat": 4,
 "nbformat_minor": 5
}
